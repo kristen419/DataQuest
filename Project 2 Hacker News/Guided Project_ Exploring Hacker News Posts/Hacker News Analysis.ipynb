{
 "cells": [
  {
   "cell_type": "markdown",
   "metadata": {},
   "source": [
    "# Exploring Hacker News Posts\n",
    "\n",
    "## What is Hacker News? \n",
    "Hacker News is a social news site founded by the startup incubator Y Combinator. Users submit posts which are voted and commented on. Topics of posts are usually focused on computer science and entreprenuership and the site is popular in technology and startup circles. \n",
    "\n",
    "Sources: DataQuest and Wikipedia\n",
    "\n",
    "## Data Source\n",
    "The data is available from [Kaggle](https://www.kaggle.com/hacker-news/hacker-news-posts)\n",
    "However, the dataset provided by DataQuest has been reduced from almost 300,000 rows to approximately 20,000 rows by removing all submissions that did not receive any comments, and then randomly sampling from the remaining sumbissions. \n",
    "\n",
    "**Data Dictionary**\n",
    "- id: The unique identifier from Hacker News for the post\n",
    "- title: The title of the post\n",
    "- url: The URL that the posts links to, if it the post has a URL\n",
    "- num_points: The number of points the post acquired, calculated as the total number of upvotes minus the total number of downvotes\n",
    "- num_comments: The number of comments that were made on the post\n",
    "- author: The username of the person who submitted the post\n",
    "- created_at: The date and time at which the post was submitted\n",
    "\n",
    "Source: Dataquest\n",
    "\n",
    "## How Hacker News Works\n",
    "Posts can be up voted, down voted, and/or commented on. Posts show the Title, number of points, author's user name, how long ago it was posted, and the number of comments. Hacker News has several tabs including:\n",
    " - new\n",
    " - past\n",
    " - comments\n",
    " - ask\n",
    " - show\n",
    "These allow the reader to click and explore Hacker News based on the user's preference. Ask and Show are features of Hacker News where the poster includes Ask HN or Show HN in the title. Ask HN is where a user can ask Hacker News users a question. Show HN is where a user can show Hacker News users a project, product, or interesting thing. \n",
    "\n",
    "Users then interact by commenting and voting on the post. The Number of points on a post are cacluated by the number of upvotes minus the number of downvotes. \n",
    "\n",
    "## Analysis\n",
    "Compare the different types of posts to determine:\n",
    " 1. Do Ask HN or Show HN posts receive more comments on average?\n",
    " 2. Do posts created at a certain time receive more comments on average?\n",
    " 3. Do Ask HN or Show HN posts receive more points on average?\n",
    " 4. Do posts created at a certain time receive more points on average?"
   ]
  },
  {
   "cell_type": "code",
   "execution_count": 1,
   "metadata": {},
   "outputs": [
    {
     "name": "stdout",
     "output_type": "stream",
     "text": [
      "[['id', 'title', 'url', 'num_points', 'num_comments', 'author', 'created_at'], ['12224879', 'Interactive Dynamic Video', 'http://www.interactivedynamicvideo.com/', '386', '52', 'ne0phyte', '8/4/2016 11:52'], ['10975351', 'How to Use Open Source and Shut the Fuck Up at the Same Time', 'http://hueniverse.com/2016/01/26/how-to-use-open-source-and-shut-the-fuck-up-at-the-same-time/', '39', '10', 'josep2', '1/26/2016 19:30'], ['11964716', \"Florida DJs May Face Felony for April Fools' Water Joke\", 'http://www.thewire.com/entertainment/2013/04/florida-djs-april-fools-water-joke/63798/', '2', '1', 'vezycash', '6/23/2016 22:20'], ['11919867', 'Technology ventures: From Idea to Enterprise', 'https://www.amazon.com/Technology-Ventures-Enterprise-Thomas-Byers/dp/0073523429', '3', '1', 'hswarna', '6/17/2016 0:01']]\n"
     ]
    }
   ],
   "source": [
    "## Importing the CSV file and converting it to list form\n",
    "from csv import reader\n",
    "opened_file = open('hacker_news.csv')\n",
    "read_file = reader(opened_file)\n",
    "hn = list(read_file)\n",
    "\n",
    "print(hn[:5])"
   ]
  },
  {
   "cell_type": "code",
   "execution_count": 2,
   "metadata": {},
   "outputs": [
    {
     "name": "stdout",
     "output_type": "stream",
     "text": [
      "['id', 'title', 'url', 'num_points', 'num_comments', 'author', 'created_at']\n",
      "\n",
      "\n",
      "[['12224879', 'Interactive Dynamic Video', 'http://www.interactivedynamicvideo.com/', '386', '52', 'ne0phyte', '8/4/2016 11:52'], ['10975351', 'How to Use Open Source and Shut the Fuck Up at the Same Time', 'http://hueniverse.com/2016/01/26/how-to-use-open-source-and-shut-the-fuck-up-at-the-same-time/', '39', '10', 'josep2', '1/26/2016 19:30'], ['11964716', \"Florida DJs May Face Felony for April Fools' Water Joke\", 'http://www.thewire.com/entertainment/2013/04/florida-djs-april-fools-water-joke/63798/', '2', '1', 'vezycash', '6/23/2016 22:20'], ['11919867', 'Technology ventures: From Idea to Enterprise', 'https://www.amazon.com/Technology-Ventures-Enterprise-Thomas-Byers/dp/0073523429', '3', '1', 'hswarna', '6/17/2016 0:01'], ['10301696', 'Note by Note: The Making of Steinway L1037 (2007)', 'http://www.nytimes.com/2007/11/07/movies/07stein.html?_r=0', '8', '2', 'walterbell', '9/30/2015 4:12']]\n"
     ]
    }
   ],
   "source": [
    "#Remove headers\n",
    "headers = hn[0]\n",
    "hn = hn[1:]\n",
    "print(headers)\n",
    "print(\"\\n\")\n",
    "print(hn[:5])"
   ]
  },
  {
   "cell_type": "markdown",
   "metadata": {},
   "source": [
    "## Ask HN or Show HN - Which post type receives more comments on average?\n",
    "Because we want to understand if Ask HN or Show HN posts receive, on average, more comments, we will filter out and create a list with titles beginning with Ask Hn or Show HN only. \n",
    "\n",
    "I will do that using the string method startswith and looping through the HN data set."
   ]
  },
  {
   "cell_type": "code",
   "execution_count": 3,
   "metadata": {},
   "outputs": [
    {
     "name": "stdout",
     "output_type": "stream",
     "text": [
      "1744\n",
      "1162\n",
      "17194\n"
     ]
    }
   ],
   "source": [
    "#Seperate out Ask HN, Show Hn and other posts\n",
    "ask_posts = []\n",
    "show_posts = []\n",
    "other_posts = []\n",
    "\n",
    "for row in hn:\n",
    "    title = row[1]\n",
    "    title = title.lower()\n",
    "    \n",
    "    if title.startswith('ask hn'):\n",
    "        ask_posts.append(row)\n",
    "    elif title.startswith('show hn'):\n",
    "        show_posts.append(row)\n",
    "    else:\n",
    "        other_posts.append(row)\n",
    "        \n",
    "print(len(ask_posts))\n",
    "print(len(show_posts))\n",
    "print(len(other_posts))"
   ]
  },
  {
   "cell_type": "code",
   "execution_count": 4,
   "metadata": {},
   "outputs": [
    {
     "name": "stdout",
     "output_type": "stream",
     "text": [
      "[['12296411', 'Ask HN: How to improve my personal website?', '', '2', '6', 'ahmedbaracat', '8/16/2016 9:55'], ['10610020', 'Ask HN: Am I the only one outraged by Twitter shutting down share counts?', '', '28', '29', 'tkfx', '11/22/2015 13:43'], ['11610310', 'Ask HN: Aby recent changes to CSS that broke mobile?', '', '1', '1', 'polskibus', '5/2/2016 10:14'], ['12210105', 'Ask HN: Looking for Employee #3 How do I do it?', '', '1', '3', 'sph130', '8/2/2016 14:20'], ['10394168', 'Ask HN: Someone offered to buy my browser extension from me. What now?', '', '28', '17', 'roykolak', '10/15/2015 16:38']]\n",
      "\n",
      "\n",
      "[['10627194', 'Show HN: Wio Link  ESP8266 Based Web of Things Hardware Development Platform', 'https://iot.seeed.cc', '26', '22', 'kfihihc', '11/25/2015 14:03'], ['10646440', 'Show HN: Something pointless I made', 'http://dn.ht/picklecat/', '747', '102', 'dhotson', '11/29/2015 22:46'], ['11590768', 'Show HN: Shanhu.io, a programming playground powered by e8vm', 'https://shanhu.io', '1', '1', 'h8liu', '4/28/2016 18:05'], ['12178806', 'Show HN: Webscope  Easy way for web developers to communicate with Clients', 'http://webscopeapp.com', '3', '3', 'fastbrick', '7/28/2016 7:11'], ['10872799', 'Show HN: GeoScreenshot  Easily test Geo-IP based web pages', 'https://www.geoscreenshot.com/', '1', '9', 'kpsychwave', '1/9/2016 20:45']]\n"
     ]
    }
   ],
   "source": [
    "print(ask_posts[:5])\n",
    "print(\"\\n\")\n",
    "print(show_posts[:5])"
   ]
  },
  {
   "cell_type": "markdown",
   "metadata": {},
   "source": [
    "## Average Number of Comments on Ask Posts"
   ]
  },
  {
   "cell_type": "code",
   "execution_count": 5,
   "metadata": {},
   "outputs": [
    {
     "name": "stdout",
     "output_type": "stream",
     "text": [
      "14.038417431192661\n"
     ]
    }
   ],
   "source": [
    "total_ask_comments = 0\n",
    "\n",
    "for row in ask_posts:\n",
    "    num_comm = int(row[4])\n",
    "    total_ask_comments = total_ask_comments + num_comm\n",
    "\n",
    "avg_ask_comments = (total_ask_comments / len(ask_posts))\n",
    "\n",
    "print(avg_ask_comments)\n",
    "    \n"
   ]
  },
  {
   "cell_type": "markdown",
   "metadata": {},
   "source": [
    "## Average Number of Comments on Show Posts"
   ]
  },
  {
   "cell_type": "code",
   "execution_count": 6,
   "metadata": {},
   "outputs": [
    {
     "name": "stdout",
     "output_type": "stream",
     "text": [
      "10.31669535283993\n"
     ]
    }
   ],
   "source": [
    "total_show_comments = 0\n",
    "\n",
    "for row in show_posts:\n",
    "    num_comm_s = int(row[4])\n",
    "    total_show_comments = total_show_comments + num_comm_s\n",
    "\n",
    "avg_show_comments = (total_show_comments / len(show_posts))\n",
    "\n",
    "print(avg_show_comments)"
   ]
  },
  {
   "cell_type": "markdown",
   "metadata": {},
   "source": [
    "## Results of Average Number of Comments\n",
    "Ask HN posts receive an average of 14 comments while Show HN posts receive an average of 10 comments. It will be beneficial to determine the times that generate the highest number of comments, on average for both types, if I would like to boost the engagement on either post type. "
   ]
  },
  {
   "cell_type": "markdown",
   "metadata": {},
   "source": [
    "# Finding the Amount of Ask Posts and Comments by Hour Created\n",
    "\n",
    "Are posts created a certain time more likely to attact comments? To find this I will:\n",
    "\n",
    "1. Calculate the amount of ask posts created in each hour of the day, along with the number of comments received. \n",
    "2. Calculate the average number of comments ask posts receive by hour created. "
   ]
  },
  {
   "cell_type": "code",
   "execution_count": 7,
   "metadata": {},
   "outputs": [
    {
     "name": "stdout",
     "output_type": "stream",
     "text": [
      "{'09': 45, '13': 85, '10': 59, '14': 107, '16': 108, '23': 68, '12': 73, '17': 100, '15': 116, '21': 109, '20': 80, '02': 58, '18': 109, '03': 54, '05': 46, '19': 110, '01': 60, '22': 71, '08': 48, '04': 47, '00': 55, '06': 44, '07': 34, '11': 58}\n",
      "{'09': 251, '13': 1253, '10': 793, '14': 1416, '16': 1814, '23': 543, '12': 687, '17': 1146, '15': 4477, '21': 1745, '20': 1722, '02': 1381, '18': 1439, '03': 421, '05': 464, '19': 1188, '01': 683, '22': 479, '08': 492, '04': 337, '00': 447, '06': 397, '07': 267, '11': 641}\n"
     ]
    }
   ],
   "source": [
    "#Calculate the amount of ask posts created during each hour of the day and the number of\n",
    "#comments received.\n",
    "import datetime as dt\n",
    "\n",
    "result_list = []\n",
    "\n",
    "for post in ask_posts:\n",
    "    result_list.append([post[6], int(post[4])])\n",
    "\n",
    "counts_by_hour = {}\n",
    "comments_by_hour = {}\n",
    "\n",
    "for row in result_list:\n",
    "    created = row[0]\n",
    "    comment = int(row[1])\n",
    "    created_dt = dt.datetime.strptime(created, \"%m/%d/%Y %H:%M\")\n",
    "    created_t = created_dt.strftime('%H')\n",
    "    if created_t not in counts_by_hour:\n",
    "        counts_by_hour[created_t] = 1\n",
    "        comments_by_hour[created_t] = comment\n",
    "    else: \n",
    "        counts_by_hour[created_t] += 1\n",
    "        comments_by_hour[created_t] += comment\n",
    "\n",
    "print(counts_by_hour)\n",
    "print(comments_by_hour)\n",
    "    \n",
    "    "
   ]
  },
  {
   "cell_type": "code",
   "execution_count": 8,
   "metadata": {},
   "outputs": [
    {
     "name": "stdout",
     "output_type": "stream",
     "text": [
      "[['09', 5.5777777777777775], ['13', 14.741176470588234], ['10', 13.440677966101696], ['14', 13.233644859813085], ['16', 16.796296296296298], ['23', 7.985294117647059], ['12', 9.41095890410959], ['17', 11.46], ['15', 38.5948275862069], ['21', 16.009174311926607], ['20', 21.525], ['02', 23.810344827586206], ['18', 13.20183486238532], ['03', 7.796296296296297], ['05', 10.08695652173913], ['19', 10.8], ['01', 11.383333333333333], ['22', 6.746478873239437], ['08', 10.25], ['04', 7.170212765957447], ['00', 8.127272727272727], ['06', 9.022727272727273], ['07', 7.852941176470588], ['11', 11.051724137931034]]\n"
     ]
    }
   ],
   "source": [
    "# Calculate the average amount of comments 'Ask HN' posts created at each hour of the day \n",
    "# receive\n",
    "avg_by_hour = []\n",
    "\n",
    "for hr in comments_by_hour:\n",
    "    avg_by_hour.append([hr, comments_by_hour[hr] / counts_by_hour[hr]])\n",
    "\n",
    "print(avg_by_hour)"
   ]
  },
  {
   "cell_type": "code",
   "execution_count": 9,
   "metadata": {},
   "outputs": [
    {
     "name": "stdout",
     "output_type": "stream",
     "text": [
      "[[5.5777777777777775, '09'], [14.741176470588234, '13'], [13.440677966101696, '10'], [13.233644859813085, '14'], [16.796296296296298, '16'], [7.985294117647059, '23'], [9.41095890410959, '12'], [11.46, '17'], [38.5948275862069, '15'], [16.009174311926607, '21'], [21.525, '20'], [23.810344827586206, '02'], [13.20183486238532, '18'], [7.796296296296297, '03'], [10.08695652173913, '05'], [10.8, '19'], [11.383333333333333, '01'], [6.746478873239437, '22'], [10.25, '08'], [7.170212765957447, '04'], [8.127272727272727, '00'], [9.022727272727273, '06'], [7.852941176470588, '07'], [11.051724137931034, '11']]\n"
     ]
    }
   ],
   "source": [
    "# Sorting by number of comments\n",
    "swap_avg_by_hour = []\n",
    "\n",
    "for row in avg_by_hour:\n",
    "    avg = row[1]\n",
    "    hour = row[0]\n",
    "    swap_avg_by_hour.append([avg,hour])\n",
    "\n",
    "print(swap_avg_by_hour)"
   ]
  },
  {
   "cell_type": "code",
   "execution_count": 10,
   "metadata": {},
   "outputs": [
    {
     "name": "stdout",
     "output_type": "stream",
     "text": [
      "[[38.5948275862069, '15'], [23.810344827586206, '02'], [21.525, '20'], [16.796296296296298, '16'], [16.009174311926607, '21']]\n"
     ]
    }
   ],
   "source": [
    "sorted_swap = sorted(swap_avg_by_hour, reverse=True)\n",
    "print(sorted_swap[:5])\n"
   ]
  },
  {
   "cell_type": "code",
   "execution_count": 11,
   "metadata": {},
   "outputs": [
    {
     "name": "stdout",
     "output_type": "stream",
     "text": [
      "Top 5 Hours for Ask Posts Comments\n",
      "['15:00: 38.59 average comments per post', '02:00: 23.81 average comments per post', '20:00: 21.52 average comments per post', '16:00: 16.80 average comments per post', '21:00: 16.01 average comments per post']\n"
     ]
    }
   ],
   "source": [
    "print(\"Top 5 Hours for Ask Posts Comments\")\n",
    "\n",
    "top_5 = []\n",
    "\n",
    "for hour in sorted_swap[:5]:\n",
    "    comms = hour[0]\n",
    "    time = hour[1]\n",
    "    time_dt = dt.datetime.strptime(time, \"%H\")\n",
    "    time_t = time_dt.strftime(\"%H:%M\")\n",
    "    avg_com = \"{0}: {1:.2f} average comments per post\".format(time_t, comms)\n",
    "    top_5.append(avg_com)\n",
    "\n",
    "print(top_5)"
   ]
  },
  {
   "cell_type": "markdown",
   "metadata": {},
   "source": [
    "## Results\n",
    "Per the [documentation of the data set](https://www.kaggle.com/hacker-news/hacker-news-posts) the time was recorded on Eastern Standard Times. \n",
    "\n",
    "The hour that receives the highest number of average comments is 15:00, or 3:00pm est. That converts to 12 noon for Pacific Time. Posts at that time receive an average of 38.59 comments. That is followed by 2:00am est (11pm pt) with 23.81 average comments, which is 14.78 less comments compared to 15:00. "
   ]
  },
  {
   "cell_type": "markdown",
   "metadata": {},
   "source": [
    "# Finding the Amount of Show Posts and Comments by Hour Created\n",
    "\n",
    "Are share posts created a certain time more likely to attact comments? While Show Posts do tend to attact less comments, I may still want to know the best time to post my Show HN conent.\n",
    "To find this I will:\n",
    "\n",
    "1. Calculate the amount of show posts created in each hour of the day, along with the number of comments received. \n",
    "2. Calculate the average number of comments show posts receive by hour created. "
   ]
  },
  {
   "cell_type": "code",
   "execution_count": 12,
   "metadata": {},
   "outputs": [
    {
     "name": "stdout",
     "output_type": "stream",
     "text": [
      "{'09': 75, '13': 184, '10': 95, '14': 193, '16': 201, '23': 104, '12': 134, '17': 193, '15': 194, '21': 156, '20': 140, '02': 88, '18': 170, '03': 81, '05': 65, '19': 165, '01': 88, '22': 117, '08': 82, '04': 73, '00': 86, '06': 60, '07': 60, '11': 102}\n",
      "{'09': 542, '13': 2199, '10': 1090, '14': 2572, '16': 2898, '23': 990, '12': 1407, '17': 2057, '15': 5109, '21': 2017, '20': 2334, '02': 1508, '18': 2401, '03': 708, '05': 522, '19': 1727, '01': 929, '22': 1049, '08': 657, '04': 584, '00': 934, '06': 539, '07': 566, '11': 1132}\n"
     ]
    }
   ],
   "source": [
    "#Calculate the amount of show posts created during each hour of the day and the number of\n",
    "#comments received\n",
    "import datetime as dt\n",
    "\n",
    "result_list_show = []\n",
    "\n",
    "for post in show_posts:\n",
    "    result_list_show.append([post[6], int(post[4])])\n",
    "\n",
    "counts_by_hour_s = {}\n",
    "comments_by_hour_s = {}\n",
    "\n",
    "for row in result_list_show:\n",
    "    created = row[0]\n",
    "    comment = int(row[1])\n",
    "    created_dt = dt.datetime.strptime(created, \"%m/%d/%Y %H:%M\")\n",
    "    created_t = created_dt.strftime('%H')\n",
    "    if created_t not in counts_by_hour:\n",
    "        counts_by_hour[created_t] = 1\n",
    "        comments_by_hour[created_t] = comment\n",
    "    else: \n",
    "        counts_by_hour[created_t] += 1\n",
    "        comments_by_hour[created_t] += comment\n",
    "\n",
    "print(counts_by_hour)\n",
    "print(comments_by_hour)"
   ]
  },
  {
   "cell_type": "code",
   "execution_count": 13,
   "metadata": {},
   "outputs": [
    {
     "name": "stdout",
     "output_type": "stream",
     "text": [
      "[['09', 7.226666666666667], ['13', 11.951086956521738], ['10', 11.473684210526315], ['14', 13.32642487046632], ['16', 14.417910447761194], ['23', 9.51923076923077], ['12', 10.5], ['17', 10.658031088082902], ['15', 26.335051546391753], ['21', 12.929487179487179], ['20', 16.67142857142857], ['02', 17.136363636363637], ['18', 14.123529411764705], ['03', 8.74074074074074], ['05', 8.03076923076923], ['19', 10.466666666666667], ['01', 10.556818181818182], ['22', 8.965811965811966], ['08', 8.012195121951219], ['04', 8.0], ['00', 10.86046511627907], ['06', 8.983333333333333], ['07', 9.433333333333334], ['11', 11.098039215686274]]\n"
     ]
    }
   ],
   "source": [
    "# Calculate the average amount of comments 'Ask HN' posts created at each hour of the day \n",
    "# receive\n",
    "avg_by_hour_s = []\n",
    "\n",
    "for hr in comments_by_hour:\n",
    "    avg_by_hour_s.append([hr, comments_by_hour[hr] / counts_by_hour[hr]])\n",
    "\n",
    "print(avg_by_hour_s)"
   ]
  },
  {
   "cell_type": "code",
   "execution_count": 14,
   "metadata": {},
   "outputs": [
    {
     "name": "stdout",
     "output_type": "stream",
     "text": [
      "Top 5 Hours for Show Posts Comments\n",
      "['15:00: 26.34 average comments per post', '02:00: 17.14 average comments per post', '20:00: 16.67 average comments per post', '16:00: 14.42 average comments per post', '18:00: 14.12 average comments per post']\n"
     ]
    }
   ],
   "source": [
    "# Sorting by number of comments\n",
    "swap_avg_by_hour_s = []\n",
    "\n",
    "for row in avg_by_hour_s:\n",
    "    avg = row[1]\n",
    "    hour = row[0]\n",
    "    swap_avg_by_hour_s.append([avg,hour])\n",
    "\n",
    "\n",
    "sorted_swap_s = sorted(swap_avg_by_hour_s, reverse=True)\n",
    "\n",
    "print(\"Top 5 Hours for Show Posts Comments\")\n",
    "\n",
    "top_5 = []\n",
    "\n",
    "for hour in sorted_swap_s[:5]:\n",
    "    comms = hour[0]\n",
    "    time = hour[1]\n",
    "    time_dt = dt.datetime.strptime(time, \"%H\")\n",
    "    time_t = time_dt.strftime(\"%H:%M\")\n",
    "    avg_com = \"{0}: {1:.2f} average comments per post\".format(time_t, comms)\n",
    "    top_5.append(avg_com)\n",
    "\n",
    "print(top_5)\n"
   ]
  },
  {
   "cell_type": "markdown",
   "metadata": {},
   "source": [
    "## Results\n",
    "\n",
    "While there are less comments on average, 15:00, 3:00 est or 12:00 pt remains the hour with the highest number of comments for both ask and show posts. Similar to ask posts, 2:00 or 11:00 pt has the second highest average number of comments. However, Show Posts still have less comments at 26.34 and 17.14 respectively. \n",
    "\n",
    "Because certain hours seem to indicate higher level of engagement, I will next use the same methodology to calculate the average number of points per hour for both ask and show posts. "
   ]
  },
  {
   "cell_type": "markdown",
   "metadata": {},
   "source": [
    "# Average Number of Points on Ask HN and Show HN Posts\n",
    "\n",
    "I reviewed the Hacker News [FAQ](https://news.ycombinator.com/newsfaq.html), which states that stories are ranked on the site using a basic algorithm that divides points by a power of the time since a story was submitted. Comments in threads are ranked the same way. \n",
    "\n",
    "Hacker News FAQ also states that comments to a post are closed after 2 weeks or if the post has been killed by a moderator or user flags. So I am curious about the number of points Ask HN and Show HN rececive. I would expect the number of points to be higher then comments and comments do drive rankings. \n",
    "\n",
    "Additionally, my hypothesis is that Ask HN inherently invites more comments through the nature of asking. Someone asks a question, others are inclined to answer. However, is it possible the Show HN gets more points, as users show their appreciation through an upvote but do not feel the need to comment? \n",
    "\n",
    "*Note: DataQuest cleaned this dataset to remove posts with 0 comments, so this is an analysis of posts with 0 comments only*\n",
    "\n",
    "I want to note that average is not a perfect calculation for points or comments, however as I learn Python, I am applying what I know so far. Also, the content of the post can also impact the points scores and comments, but we do not have access to that data. That being said, a number of likes or upvotes as well as downvotes can provide a poster feedback about the content being posted, just like the average number of comments, and the hour a post obtains higher interaction can help a poster know when and what type of content could be successful.\n",
    "\n",
    "So, although not a part of DataQuest's instructions, I am adding to my analysis as we have the data to do so. \n",
    "\n",
    "Next, I will perform a similar calculation to find the average number of points on Ask HN and Share HN posts. \n",
    "\n",
    "## Average Number of Points on an Ask Post"
   ]
  },
  {
   "cell_type": "code",
   "execution_count": 22,
   "metadata": {},
   "outputs": [
    {
     "name": "stdout",
     "output_type": "stream",
     "text": [
      "15.061926605504587\n"
     ]
    }
   ],
   "source": [
    "total_ask_points = 0\n",
    "\n",
    "for row in ask_posts:\n",
    "    points = int(row[3])\n",
    "    total_ask_points = total_ask_points + points\n",
    "\n",
    "avg_ask_points = (total_ask_points / len(ask_posts))\n",
    "\n",
    "print(avg_ask_points)"
   ]
  },
  {
   "cell_type": "markdown",
   "metadata": {},
   "source": [
    "## Average Number of Points on a Show Post"
   ]
  },
  {
   "cell_type": "code",
   "execution_count": 15,
   "metadata": {},
   "outputs": [
    {
     "name": "stdout",
     "output_type": "stream",
     "text": [
      "27.555077452667813\n"
     ]
    }
   ],
   "source": [
    "total_show_points = 0\n",
    "\n",
    "for row in show_posts:\n",
    "    points = int(row[3])\n",
    "    total_show_points = total_show_points + points\n",
    "\n",
    "avg_show_points = (total_show_points / len(show_posts))\n",
    "\n",
    "print(avg_show_points)"
   ]
  },
  {
   "cell_type": "markdown",
   "metadata": {},
   "source": [
    "## Results for Average Number of Points\n",
    "My hypothesis proved true, as Show HN posts have a higher number of average points (27) than Ask HN posts (15). As noted above, this dataset has been cleaned so that all posts with 0 comments have been removed, so the dataset may look different, however since the goal is to increase engagement, having both comments and points shows higher engagement. By asking, a user will comment to provide the answer but may or may not vote. By showing, it might be duplicative for a user to upvote and comment on the post, unless providing feedback.\n",
    "\n",
    "## Finding the Amount of Ask Posts and Points by Hour Created"
   ]
  },
  {
   "cell_type": "code",
   "execution_count": 16,
   "metadata": {},
   "outputs": [
    {
     "name": "stdout",
     "output_type": "stream",
     "text": [
      "{'09': 329, '13': 2062, '10': 1102, '14': 1282, '16': 2522, '23': 581, '12': 782, '17': 1941, '15': 3479, '21': 1721, '20': 1151, '02': 793, '18': 1741, '03': 374, '05': 552, '19': 1513, '01': 700, '22': 511, '08': 515, '04': 389, '00': 451, '06': 591, '07': 361, '11': 825}\n"
     ]
    }
   ],
   "source": [
    "import datetime as dt\n",
    "\n",
    "pts_result_list = []\n",
    "\n",
    "for row in ask_posts:\n",
    "    pts_result_list.append([row[6], int(row[3])])\n",
    "\n",
    "pts_counts_by_hour = {}\n",
    "points_by_hour = {}\n",
    "date_format = \"%m/%d/%Y %H:%M\"\n",
    "\n",
    "for row in pts_result_list:\n",
    "    date = row[0]\n",
    "    point = row[1]\n",
    "    time = dt.datetime.strptime(date, date_format).strftime(\"%H\")\n",
    "    if time in pts_counts_by_hour:\n",
    "        points_by_hour[time] += point\n",
    "        pts_counts_by_hour[time] += 1\n",
    "    else:\n",
    "        points_by_hour[time] = point\n",
    "        pts_counts_by_hour[time] = 1\n",
    "        \n",
    "print(points_by_hour)\n",
    "        "
   ]
  },
  {
   "cell_type": "code",
   "execution_count": 17,
   "metadata": {},
   "outputs": [
    {
     "name": "stdout",
     "output_type": "stream",
     "text": [
      "[['09', 7.311111111111111], ['13', 24.258823529411764], ['10', 18.677966101694917], ['14', 11.981308411214954], ['16', 23.35185185185185], ['23', 8.544117647058824], ['12', 10.712328767123287], ['17', 19.41], ['15', 29.99137931034483], ['21', 15.788990825688073], ['20', 14.3875], ['02', 13.672413793103448], ['18', 15.972477064220184], ['03', 6.925925925925926], ['05', 12.0], ['19', 13.754545454545454], ['01', 11.666666666666666], ['22', 7.197183098591549], ['08', 10.729166666666666], ['04', 8.27659574468085], ['00', 8.2], ['06', 13.431818181818182], ['07', 10.617647058823529], ['11', 14.224137931034482]]\n"
     ]
    }
   ],
   "source": [
    "avg_pts_by_hour = []\n",
    "\n",
    "for hr in points_by_hour:\n",
    "    avg_pts_by_hour.append([hr, points_by_hour[hr] / pts_counts_by_hour[hr]])\n",
    "\n",
    "print(avg_pts_by_hour)"
   ]
  },
  {
   "cell_type": "code",
   "execution_count": 18,
   "metadata": {},
   "outputs": [
    {
     "name": "stdout",
     "output_type": "stream",
     "text": [
      "Top 5 Hours for 'Ask HN' Points\n",
      "15:00: 29.99 average points per ask post\n",
      "13:00: 24.26 average points per ask post\n",
      "16:00: 23.35 average points per ask post\n",
      "17:00: 19.41 average points per ask post\n",
      "10:00: 18.68 average points per ask post\n"
     ]
    }
   ],
   "source": [
    "swap_avg_by_hour_pts = []\n",
    "\n",
    "for row in avg_pts_by_hour:\n",
    "    swap_avg_by_hour_pts.append([row[1], row[0]])\n",
    "\n",
    "sorted_swap_pts = sorted(swap_avg_by_hour_pts, reverse=True)\n",
    "\n",
    "print(\"Top 5 Hours for 'Ask HN' Points\")\n",
    "for avg, hr in sorted_swap_pts[:5]:\n",
    "    print(\n",
    "        \"{}: {:.2f} average points per ask post\".format(\n",
    "            dt.datetime.strptime(hr, \"%H\").strftime(\"%H:%M\"), avg\n",
    "        )\n",
    "    )"
   ]
  },
  {
   "cell_type": "markdown",
   "metadata": {},
   "source": [
    "The top hour for points, 15:00 remains the same for comments and posts so far. \n",
    "\n",
    "\n",
    "# Finding the Amount of Show Posts and Points by Hour Created"
   ]
  },
  {
   "cell_type": "code",
   "execution_count": 19,
   "metadata": {},
   "outputs": [
    {
     "name": "stdout",
     "output_type": "stream",
     "text": [
      "{'14': 2187, '22': 1856, '18': 2215, '07': 494, '20': 1819, '05': 104, '16': 2634, '19': 1702, '15': 2228, '03': 679, '17': 2521, '06': 375, '02': 340, '13': 2438, '08': 519, '21': 866, '04': 386, '11': 1480, '12': 2543, '23': 1526, '09': 553, '01': 700, '10': 681, '00': 1173}\n"
     ]
    }
   ],
   "source": [
    "import datetime as dt\n",
    "\n",
    "pts_result_list_s = []\n",
    "\n",
    "for row in show_posts:\n",
    "    pts_result_list_s.append([row[6], int(row[3])])\n",
    "\n",
    "pts_counts_by_hour_s = {}\n",
    "points_by_hour_s = {}\n",
    "date_format = \"%m/%d/%Y %H:%M\"\n",
    "\n",
    "for row in pts_result_list_s:\n",
    "    date = row[0]\n",
    "    point = row[1]\n",
    "    time = dt.datetime.strptime(date, date_format).strftime(\"%H\")\n",
    "    if time in pts_counts_by_hour_s:\n",
    "        points_by_hour_s[time] += point\n",
    "        pts_counts_by_hour_s[time] += 1\n",
    "    else:\n",
    "        points_by_hour_s[time] = point\n",
    "        pts_counts_by_hour_s[time] = 1\n",
    "        \n",
    "print(points_by_hour_s)"
   ]
  },
  {
   "cell_type": "code",
   "execution_count": 20,
   "metadata": {},
   "outputs": [
    {
     "name": "stdout",
     "output_type": "stream",
     "text": [
      "[['14', 25.430232558139537], ['22', 40.34782608695652], ['18', 36.31147540983606], ['07', 19.0], ['20', 30.316666666666666], ['05', 5.473684210526316], ['16', 28.322580645161292], ['19', 30.945454545454545], ['15', 28.564102564102566], ['03', 25.14814814814815], ['17', 27.107526881720432], ['06', 23.4375], ['02', 11.333333333333334], ['13', 24.626262626262626], ['08', 15.264705882352942], ['21', 18.425531914893618], ['04', 14.846153846153847], ['11', 33.63636363636363], ['12', 41.68852459016394], ['23', 42.388888888888886], ['09', 18.433333333333334], ['01', 25.0], ['10', 18.916666666666668], ['00', 37.83870967741935]]\n"
     ]
    }
   ],
   "source": [
    "avg_pts_by_hour_s = []\n",
    "\n",
    "for hr in points_by_hour_s:\n",
    "    avg_pts_by_hour_s.append([hr, points_by_hour_s[hr] / pts_counts_by_hour_s[hr]])\n",
    "\n",
    "print(avg_pts_by_hour_s)"
   ]
  },
  {
   "cell_type": "code",
   "execution_count": 21,
   "metadata": {},
   "outputs": [
    {
     "name": "stdout",
     "output_type": "stream",
     "text": [
      "Top 5 Hours for 'Show HN' Points\n",
      "23:00: 42.39 average points per show post\n",
      "12:00: 41.69 average points per show post\n",
      "22:00: 40.35 average points per show post\n",
      "00:00: 37.84 average points per show post\n",
      "18:00: 36.31 average points per show post\n"
     ]
    }
   ],
   "source": [
    "swap_avg_by_hour_pts_s = []\n",
    "\n",
    "for row in avg_pts_by_hour_s:\n",
    "    swap_avg_by_hour_pts_s.append([row[1], row[0]])\n",
    "\n",
    "sorted_swap_pts_s = sorted(swap_avg_by_hour_pts_s, reverse=True)\n",
    "\n",
    "print(\"Top 5 Hours for 'Show HN' Points\")\n",
    "for avg, hr in sorted_swap_pts_s[:5]:\n",
    "    print(\n",
    "        \"{}: {:.2f} average points per show post\".format(\n",
    "            dt.datetime.strptime(hr, \"%H\").strftime(\"%H:%M\"), avg\n",
    "        )\n",
    "    )"
   ]
  },
  {
   "cell_type": "markdown",
   "metadata": {},
   "source": [
    "As discovered earlier, Show HN posts receive more points then Ask HN posts. It also appears that 23:00, or 11PM est and 8PM pt receive the most points (42.39) followed by noon est or 9am pt (41.69)."
   ]
  },
  {
   "cell_type": "markdown",
   "metadata": {},
   "source": [
    "# Conclusion\n",
    "\n",
    "Below is a table summarizing the hours with the highest number of comments and points for both Ask HN and Post HN posts. \n",
    "\n",
    "| Post Type | Time & Comments | Time & Points |\n",
    "|-----------|-----------------|---------------|\n",
    "| Ask HN    | 15:00 38.59     | 15:00 29.99   |\n",
    "| Post HN   | 15:00 26.34     | 23:00 42.39   |\n",
    "|           |                 |               |\n",
    "\n",
    "These are the hours with the second highest number of comments and points:\n",
    "\n",
    "| Post Type | Time & Comments | Time & Points |\n",
    "|-----------|-----------------|---------------|\n",
    "| Ask HN    | 02:00 23.81     | 13:00 24.26   |\n",
    "| Post HN   | 02:00 17.14     | 12:00 41.69   |\n",
    "|           |                 |               |\n",
    "\n",
    "Depending on your goal, higher points or higher comments, this will help you determine when to post. Engagement appears to be high at 15:00 or 3:00pm EST and 12:00pm PT where you could get both the highest number of commments for both Ask HN and Post HN posts, as well as the highest number of points for Ask HN. \n",
    "\n",
    "However, if you are looking for higher points, a Show HN post will generate more points. 4 of 5 top hours for Show HN have average points per hour greater than 38.59, the top number of Ask HN comments. \n",
    "\n",
    "One possible strategy to get the most exposure is to first post an Ask HN post asking for feedback on a project and once finalizing the project post a Show HN post. Otherwise, the results are helpful when determining if you would like a high number of comments or higher points. \n",
    "\n",
    "When determining what time to post, please be sure to convert to your local time zone. \n",
    "\n",
    "A few more recommendations to consider when posting:\n",
    " - What content generates more comments and points\n",
    " \n",
    "Happy Posting!"
   ]
  }
 ],
 "metadata": {
  "kernelspec": {
   "display_name": "Python 3",
   "language": "python",
   "name": "python3"
  },
  "language_info": {
   "codemirror_mode": {
    "name": "ipython",
    "version": 3
   },
   "file_extension": ".py",
   "mimetype": "text/x-python",
   "name": "python",
   "nbconvert_exporter": "python",
   "pygments_lexer": "ipython3",
   "version": "3.7.4"
  }
 },
 "nbformat": 4,
 "nbformat_minor": 2
}
